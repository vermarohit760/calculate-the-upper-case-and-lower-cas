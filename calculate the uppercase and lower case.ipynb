{
 "cells": [
  {
   "cell_type": "code",
   "execution_count": 17,
   "id": "a82c2152",
   "metadata": {},
   "outputs": [
    {
     "name": "stdout",
     "output_type": "stream",
     "text": [
      "first case\n",
      "No. of Upper case characters are:  3\n",
      "No. of Lower case characters are:  12\n",
      "second case\n",
      "No. of Upper case characters are:  4\n",
      "No. of Lower case characters are:  4\n"
     ]
    }
   ],
   "source": [
    "'''Write a Python function that accepts a string and calculate the number of upper case letters and lower case letters.\n",
    "\n",
    "\n",
    "\n",
    "﻿Sample String : 'The quick Brow Fox'\n",
    "\n",
    "Expected Output :\n",
    "\n",
    "No. of Upper case characters : 3\n",
    "\n",
    "No. of Lower case Characters : 12\n",
    "\n",
    "'''\n",
    "def U_and_L_calculator(string):\n",
    "    lower=0\n",
    "    upper=0\n",
    "    for i in string:\n",
    "        if i.isalpha():\n",
    "            if i.isupper():\n",
    "                upper+=1\n",
    "            else:\n",
    "                lower+=1\n",
    "    print('No. of Upper case characters are: ',upper)\n",
    "    print('No. of Lower case characters are: ',lower)\n",
    "print('first case')\n",
    "sample_string='The quick Brow Fox'\n",
    "U_and_L_calculator(sample_string)\n",
    "print('second case')\n",
    "sample_string='ABCDabcd@#$'\n",
    "U_and_L_calculator(sample_string)"
   ]
  },
  {
   "cell_type": "code",
   "execution_count": null,
   "id": "2447a55e",
   "metadata": {},
   "outputs": [],
   "source": []
  }
 ],
 "metadata": {
  "kernelspec": {
   "display_name": "Python 3 (ipykernel)",
   "language": "python",
   "name": "python3"
  },
  "language_info": {
   "codemirror_mode": {
    "name": "ipython",
    "version": 3
   },
   "file_extension": ".py",
   "mimetype": "text/x-python",
   "name": "python",
   "nbconvert_exporter": "python",
   "pygments_lexer": "ipython3",
   "version": "3.9.6"
  }
 },
 "nbformat": 4,
 "nbformat_minor": 5
}
